{
  "nbformat": 4,
  "nbformat_minor": 0,
  "metadata": {
    "colab": {
      "provenance": [],
      "authorship_tag": "ABX9TyNj5SUzMrjDiFbGgcmcoPjk"
    },
    "kernelspec": {
      "name": "python3",
      "display_name": "Python 3"
    },
    "language_info": {
      "name": "python"
    }
  },
  "cells": [
    {
      "cell_type": "code",
      "execution_count": 13,
      "metadata": {
        "colab": {
          "base_uri": "https://localhost:8080/"
        },
        "id": "KhEP3CAfPyYy",
        "outputId": "34a58d4a-90aa-40d5-f697-9cab0aa6faef"
      },
      "outputs": [
        {
          "output_type": "stream",
          "name": "stdout",
          "text": [
            "Hello World-> 1 .\n",
            "Hello World-> 2 ..\n",
            "Hello World-> 3 ...\n",
            "-----------------------------------------------\n",
            "Hello World-> 2 ..\n",
            "Hello World-> 4 ....\n",
            "Hello World-> 6 ......\n",
            "Hello World-> 8 ........\n"
          ]
        }
      ],
      "source": [
        "## For Looping\n",
        "## write sentence 8 times \n",
        "\n",
        "for string in range(3):\n",
        "  print(\"Hello World->\",string+1,(string+1)*'.')\n",
        "\n",
        "print(\"-----------------------------------------------\")\n",
        "\n",
        "for string2 in range(1,8,2):\n",
        "  print(\"Hello World->\",string2+1,(string2+1)*'.')"
      ]
    },
    {
      "cell_type": "code",
      "source": [
        "# for else looping\n",
        "# print odd or even\n",
        "x=89\n",
        "if x%2==0:\n",
        "  print(\"even\")\n",
        "else:\n",
        "  print(\"odd\") \n",
        "\n",
        "print(\"==============================================\")\n",
        "## break the loop when y = 3\n",
        "\n",
        "for e in range(4):\n",
        "  if e==3: \n",
        "    break\n",
        "  print(e)\n",
        "else:\n",
        "    print(\"hh\")"
      ],
      "metadata": {
        "colab": {
          "base_uri": "https://localhost:8080/"
        },
        "id": "06Hhpz-zQtOz",
        "outputId": "e16fbc69-1507-46e6-facd-012e0f35afa9"
      },
      "execution_count": 28,
      "outputs": [
        {
          "output_type": "stream",
          "name": "stdout",
          "text": [
            "odd\n",
            "==============================================\n",
            "0\n",
            "1\n",
            "2\n"
          ]
        }
      ]
    },
    {
      "cell_type": "code",
      "source": [
        "## loop over list\n",
        "a=[1,2,3,4]\n",
        "\n",
        "for b in a:\n",
        "\n",
        "  print(b*2)\n"
      ],
      "metadata": {
        "colab": {
          "base_uri": "https://localhost:8080/"
        },
        "id": "FdT66YOBQtUL",
        "outputId": "7eea9344-3e6c-441d-dc73-c492e41b2f6d"
      },
      "execution_count": 3,
      "outputs": [
        {
          "output_type": "stream",
          "name": "stdout",
          "text": [
            "2\n",
            "4\n",
            "6\n",
            "8\n"
          ]
        }
      ]
    },
    {
      "cell_type": "code",
      "source": [
        "##Find the Number Occurring Odd Number of Times\n",
        "arr = [5, 7, 2, 7, 5, 2, 5,5,7,4,5,6,7,8,9,1,2,3,4,5,6,7,8]\n",
        "def gg(jjjj):\n",
        "  count=0\n",
        "  for h in arr:\n",
        "   if (h%2 !=  0):\n",
        "    count+=1\n",
        "  return count\n"
      ],
      "metadata": {
        "id": "Aizv5nu6QtZy"
      },
      "execution_count": 13,
      "outputs": []
    },
    {
      "cell_type": "code",
      "source": [
        "final=gg(arr)\n",
        "print(final)"
      ],
      "metadata": {
        "colab": {
          "base_uri": "https://localhost:8080/"
        },
        "id": "pmP2wVd_QtfT",
        "outputId": "1799841a-096a-4df8-e5ee-7265aa773329"
      },
      "execution_count": 12,
      "outputs": [
        {
          "output_type": "stream",
          "name": "stdout",
          "text": [
            "14\n"
          ]
        }
      ]
    },
    {
      "cell_type": "code",
      "source": [
        "arr = [5, 7, 2, 7, 5, 2, 5,5,7,2]\n",
        "def gg(jjjj):\n",
        "  count=0\n",
        "  for h in arr:\n",
        "   if (h%2 ==  0):\n",
        "    count=count+h\n",
        "  return count\n",
        "   \n"
      ],
      "metadata": {
        "id": "zQsUDgp4QtiF"
      },
      "execution_count": 16,
      "outputs": []
    },
    {
      "cell_type": "code",
      "source": [
        "gg(arr)"
      ],
      "metadata": {
        "colab": {
          "base_uri": "https://localhost:8080/"
        },
        "id": "tr-z3hP-Qtk7",
        "outputId": "54b88a99-72f7-4f7e-8305-6400673b3206"
      },
      "execution_count": 17,
      "outputs": [
        {
          "output_type": "execute_result",
          "data": {
            "text/plain": [
              "6"
            ]
          },
          "metadata": {},
          "execution_count": 17
        }
      ]
    },
    {
      "cell_type": "code",
      "source": [],
      "metadata": {
        "id": "kcdxvKsvQtyQ"
      },
      "execution_count": null,
      "outputs": []
    },
    {
      "cell_type": "code",
      "source": [],
      "metadata": {
        "id": "RVuFQkYqQt1m"
      },
      "execution_count": null,
      "outputs": []
    }
  ]
}