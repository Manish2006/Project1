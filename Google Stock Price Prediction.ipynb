{
 "cells": [
  {
   "cell_type": "code",
   "execution_count": 49,
   "metadata": {},
   "outputs": [
    {
     "data": {
      "text/html": [
       "<div>\n",
       "<style scoped>\n",
       "    .dataframe tbody tr th:only-of-type {\n",
       "        vertical-align: middle;\n",
       "    }\n",
       "\n",
       "    .dataframe tbody tr th {\n",
       "        vertical-align: top;\n",
       "    }\n",
       "\n",
       "    .dataframe thead th {\n",
       "        text-align: right;\n",
       "    }\n",
       "</style>\n",
       "<table border=\"1\" class=\"dataframe\">\n",
       "  <thead>\n",
       "    <tr style=\"text-align: right;\">\n",
       "      <th></th>\n",
       "      <th>date</th>\n",
       "      <th>open</th>\n",
       "      <th>high</th>\n",
       "      <th>low</th>\n",
       "      <th>close</th>\n",
       "      <th>volume</th>\n",
       "      <th>Name</th>\n",
       "    </tr>\n",
       "  </thead>\n",
       "  <tbody>\n",
       "    <tr>\n",
       "      <th>1257</th>\n",
       "      <td>2018-02-06</td>\n",
       "      <td>154.830</td>\n",
       "      <td>163.72</td>\n",
       "      <td>154.0000</td>\n",
       "      <td>163.03</td>\n",
       "      <td>68243838</td>\n",
       "      <td>AAPL</td>\n",
       "    </tr>\n",
       "    <tr>\n",
       "      <th>1258</th>\n",
       "      <td>2018-02-07</td>\n",
       "      <td>163.085</td>\n",
       "      <td>163.40</td>\n",
       "      <td>159.0685</td>\n",
       "      <td>159.54</td>\n",
       "      <td>51608580</td>\n",
       "      <td>AAPL</td>\n",
       "    </tr>\n",
       "  </tbody>\n",
       "</table>\n",
       "</div>"
      ],
      "text/plain": [
       "           date     open    high       low   close    volume  Name\n",
       "1257 2018-02-06  154.830  163.72  154.0000  163.03  68243838  AAPL\n",
       "1258 2018-02-07  163.085  163.40  159.0685  159.54  51608580  AAPL"
      ]
     },
     "execution_count": 49,
     "metadata": {},
     "output_type": "execute_result"
    }
   ],
   "source": [
    "import numpy as np\n",
    "import pandas as pd\n",
    "import matplotlib.pyplot as plt\n",
    "from sklearn.preprocessing import MinMaxScaler\n",
    "from keras.models import Sequential, load_model\n",
    "from keras.layers import LSTM, Dense, Dropout\n",
    "import os\n",
    "df = pd.read_excel('C://Users//eorsswv//Reporting//Data//Google1.xls')\n",
    "df.tail(2)"
   ]
  },
  {
   "cell_type": "code",
   "execution_count": 50,
   "metadata": {},
   "outputs": [
    {
     "name": "stdout",
     "output_type": "stream",
     "text": [
      "(1259, 1)\n"
     ]
    },
    {
     "data": {
      "text/plain": [
       "array([[67.7142],\n",
       "       [68.0714],\n",
       "       [68.5014],\n",
       "       [66.7442],\n",
       "       [66.3599]])"
      ]
     },
     "execution_count": 50,
     "metadata": {},
     "output_type": "execute_result"
    }
   ],
   "source": [
    "df = df['open'].values\n",
    "df = df.reshape(-1, 1)\n",
    "print(df.shape)\n",
    "df[:5]"
   ]
  },
  {
   "cell_type": "code",
   "execution_count": 51,
   "metadata": {},
   "outputs": [
    {
     "name": "stdout",
     "output_type": "stream",
     "text": [
      "(1007, 1)\n",
      "(302, 1)\n"
     ]
    }
   ],
   "source": [
    "dataset_train = np.array(df[:int(df.shape[0]*0.8)])\n",
    "dataset_test = np.array(df[int(df.shape[0]*0.8)-50:])\n",
    "print(dataset_train.shape)\n",
    "print(dataset_test.shape)"
   ]
  },
  {
   "cell_type": "code",
   "execution_count": 52,
   "metadata": {},
   "outputs": [
    {
     "data": {
      "text/plain": [
       "array([[0.15550899],\n",
       "       [0.16002875],\n",
       "       [0.16546966],\n",
       "       [0.1432353 ],\n",
       "       [0.13837263]])"
      ]
     },
     "execution_count": 52,
     "metadata": {},
     "output_type": "execute_result"
    }
   ],
   "source": [
    "scaler = MinMaxScaler(feature_range=(0,1))\n",
    "dataset_train = scaler.fit_transform(dataset_train)\n",
    "dataset_train[:5]"
   ]
  },
  {
   "cell_type": "code",
   "execution_count": 53,
   "metadata": {},
   "outputs": [
    {
     "data": {
      "text/plain": [
       "array([[0.7048619 ],\n",
       "       [0.70865789],\n",
       "       [0.70043325],\n",
       "       [0.71080895],\n",
       "       [0.69518213]])"
      ]
     },
     "execution_count": 53,
     "metadata": {},
     "output_type": "execute_result"
    }
   ],
   "source": [
    "\n",
    "\n",
    "dataset_test = scaler.transform(dataset_test)\n",
    "dataset_test[:5]\n",
    "\n"
   ]
  },
  {
   "cell_type": "code",
   "execution_count": 54,
   "metadata": {},
   "outputs": [],
   "source": [
    "def create_dataset(df):\n",
    "    x = []\n",
    "    y = []\n",
    "    for i in range(50, df.shape[0]):\n",
    "        x.append(df[i-50:i, 0])\n",
    "        y.append(df[i, 0])\n",
    "    x = np.array(x)\n",
    "    y = np.array(y)\n",
    "    return x,y"
   ]
  },
  {
   "cell_type": "code",
   "execution_count": 55,
   "metadata": {},
   "outputs": [
    {
     "data": {
      "text/plain": [
       "array([[0.15550899, 0.16002875, 0.16546966, 0.1432353 , 0.13837263,\n",
       "        0.14619996, 0.1321915 , 0.12602681, 0.10489581, 0.11077074,\n",
       "        0.11908522, 0.10095558, 0.10928904, 0.10137187, 0.09043563,\n",
       "        0.07199725, 0.06057385, 0.08412669, 0.06603248, 0.07561229,\n",
       "        0.07552245, 0.08609681, 0.07317274, 0.0810899 , 0.09030909,\n",
       "        0.09667117, 0.12929896, 0.1255384 , 0.11252448, 0.12040496,\n",
       "        0.13868011, 0.14003654, 0.12380363, 0.11180072, 0.09748478,\n",
       "        0.07163663, 0.07845043, 0.08277153, 0.06603248, 0.06666515,\n",
       "        0.06939446, 0.07254007, 0.08269814, 0.08347632, 0.07055098,\n",
       "        0.06073581, 0.0583861 , 0.03076649, 0.        , 0.00844228]])"
      ]
     },
     "execution_count": 55,
     "metadata": {},
     "output_type": "execute_result"
    }
   ],
   "source": [
    "x_train, y_train = create_dataset(dataset_train)\n",
    "x_train[:1]"
   ]
  },
  {
   "cell_type": "code",
   "execution_count": 56,
   "metadata": {},
   "outputs": [
    {
     "data": {
      "text/plain": [
       "array([[0.7048619 , 0.70865789, 0.70043325, 0.71080895, 0.69518213,\n",
       "        0.68006144, 0.69056368, 0.68423703, 0.68120024, 0.70144551,\n",
       "        0.71979279, 0.73219302, 0.73915233, 0.75433628, 0.7586384 ,\n",
       "        0.7724305 , 0.76395279, 0.77584689, 0.77660608, 0.7709121 ,\n",
       "        0.7612956 , 0.77306316, 0.78571645, 0.77217743, 0.77470809,\n",
       "        0.76395279, 0.76458545, 0.76547118, 0.77635302, 0.79115737,\n",
       "        0.80153307, 0.80115347, 0.80311474, 0.80583519, 0.79609216,\n",
       "        0.81709663, 0.80950465, 0.82279061, 0.81709663, 0.81140264,\n",
       "        0.82241101, 0.83822763, 0.84417468, 0.82886419, 0.83164791,\n",
       "        0.90604929, 0.91800665, 0.9222455 , 0.93262121, 0.95046235]])"
      ]
     },
     "execution_count": 56,
     "metadata": {},
     "output_type": "execute_result"
    }
   ],
   "source": [
    "x_test, y_test = create_dataset(dataset_test)\n",
    "x_test[:1]"
   ]
  },
  {
   "cell_type": "code",
   "execution_count": 57,
   "metadata": {},
   "outputs": [],
   "source": [
    "x_train = np.reshape(x_train, (x_train.shape[0], x_train.shape[1], 1))\n",
    "x_test = np.reshape(x_test, (x_test.shape[0], x_test.shape[1], 1))"
   ]
  },
  {
   "cell_type": "code",
   "execution_count": 58,
   "metadata": {},
   "outputs": [],
   "source": [
    "model = Sequential()\n",
    "model.add(LSTM(units=96, return_sequences=True, input_shape=(x_train.shape[1], 1)))\n",
    "model.add(Dropout(0.2))\n",
    "model.add(LSTM(units=96, return_sequences=True))\n",
    "model.add(Dropout(0.2))\n",
    "model.add(LSTM(units=96, return_sequences=True))\n",
    "model.add(Dropout(0.2))\n",
    "model.add(LSTM(units=96))\n",
    "model.add(Dropout(0.2))\n",
    "model.add(Dense(units=1))"
   ]
  },
  {
   "cell_type": "code",
   "execution_count": 59,
   "metadata": {},
   "outputs": [],
   "source": [
    "model.compile(loss='mean_squared_error', optimizer='adam')"
   ]
  },
  {
   "cell_type": "code",
   "execution_count": 60,
   "metadata": {},
   "outputs": [
    {
     "name": "stdout",
     "output_type": "stream",
     "text": [
      "Epoch 1/50\n",
      "957/957 [==============================] - 5s 5ms/step - loss: 0.0357\n",
      "Epoch 2/50\n",
      "957/957 [==============================] - 3s 3ms/step - loss: 0.0061\n",
      "Epoch 3/50\n",
      "957/957 [==============================] - 4s 4ms/step - loss: 0.0060\n",
      "Epoch 4/50\n",
      "957/957 [==============================] - 4s 4ms/step - loss: 0.0053\n",
      "Epoch 5/50\n",
      "957/957 [==============================] - 4s 4ms/step - loss: 0.0062\n",
      "Epoch 6/50\n",
      "957/957 [==============================] - 4s 4ms/step - loss: 0.0052\n",
      "Epoch 7/50\n",
      "957/957 [==============================] - 4s 4ms/step - loss: 0.0046\n",
      "Epoch 8/50\n",
      "957/957 [==============================] - 4s 4ms/step - loss: 0.0046\n",
      "Epoch 9/50\n",
      "957/957 [==============================] - 4s 4ms/step - loss: 0.0050\n",
      "Epoch 10/50\n",
      "957/957 [==============================] - 4s 4ms/step - loss: 0.0051\n",
      "Epoch 11/50\n",
      "957/957 [==============================] - 4s 4ms/step - loss: 0.0041\n",
      "Epoch 12/50\n",
      "957/957 [==============================] - 4s 5ms/step - loss: 0.0042\n",
      "Epoch 13/50\n",
      "957/957 [==============================] - 4s 4ms/step - loss: 0.0040\n",
      "Epoch 14/50\n",
      "957/957 [==============================] - 4s 4ms/step - loss: 0.0036\n",
      "Epoch 15/50\n",
      "957/957 [==============================] - 4s 4ms/step - loss: 0.0040\n",
      "Epoch 16/50\n",
      "957/957 [==============================] - 5s 5ms/step - loss: 0.0035\n",
      "Epoch 17/50\n",
      "957/957 [==============================] - 4s 4ms/step - loss: 0.0037\n",
      "Epoch 18/50\n",
      "957/957 [==============================] - 4s 5ms/step - loss: 0.0036\n",
      "Epoch 19/50\n",
      "957/957 [==============================] - 4s 4ms/step - loss: 0.0033\n",
      "Epoch 20/50\n",
      "957/957 [==============================] - 4s 4ms/step - loss: 0.0037\n",
      "Epoch 21/50\n",
      "957/957 [==============================] - 4s 4ms/step - loss: 0.0032\n",
      "Epoch 22/50\n",
      "957/957 [==============================] - 4s 4ms/step - loss: 0.0031\n",
      "Epoch 23/50\n",
      "957/957 [==============================] - 4s 4ms/step - loss: 0.0031\n",
      "Epoch 24/50\n",
      "957/957 [==============================] - 4s 4ms/step - loss: 0.0029\n",
      "Epoch 25/50\n",
      "957/957 [==============================] - 4s 4ms/step - loss: 0.0030\n",
      "Epoch 26/50\n",
      "957/957 [==============================] - 4s 4ms/step - loss: 0.0030\n",
      "Epoch 27/50\n",
      "957/957 [==============================] - 4s 5ms/step - loss: 0.0032\n",
      "Epoch 28/50\n",
      "957/957 [==============================] - 4s 4ms/step - loss: 0.0033\n",
      "Epoch 29/50\n",
      "957/957 [==============================] - 4s 4ms/step - loss: 0.0032\n",
      "Epoch 30/50\n",
      "957/957 [==============================] - 4s 4ms/step - loss: 0.0031\n",
      "Epoch 31/50\n",
      "957/957 [==============================] - 4s 4ms/step - loss: 0.0027\n",
      "Epoch 32/50\n",
      "957/957 [==============================] - 4s 4ms/step - loss: 0.0028\n",
      "Epoch 33/50\n",
      "957/957 [==============================] - 4s 4ms/step - loss: 0.0031\n",
      "Epoch 34/50\n",
      "957/957 [==============================] - 4s 4ms/step - loss: 0.0026\n",
      "Epoch 35/50\n",
      "957/957 [==============================] - 4s 4ms/step - loss: 0.0026\n",
      "Epoch 36/50\n",
      "957/957 [==============================] - 4s 4ms/step - loss: 0.0028\n",
      "Epoch 37/50\n",
      "957/957 [==============================] - 4s 4ms/step - loss: 0.0025\n",
      "Epoch 38/50\n",
      "957/957 [==============================] - 4s 4ms/step - loss: 0.0031\n",
      "Epoch 39/50\n",
      "957/957 [==============================] - 4s 4ms/step - loss: 0.0024\n",
      "Epoch 40/50\n",
      "957/957 [==============================] - 4s 4ms/step - loss: 0.0023\n",
      "Epoch 41/50\n",
      "957/957 [==============================] - 4s 5ms/step - loss: 0.0024\n",
      "Epoch 42/50\n",
      "957/957 [==============================] - 4s 4ms/step - loss: 0.0024\n",
      "Epoch 43/50\n",
      "957/957 [==============================] - 4s 4ms/step - loss: 0.0023\n",
      "Epoch 44/50\n",
      "957/957 [==============================] - 4s 4ms/step - loss: 0.0022\n",
      "Epoch 45/50\n",
      "957/957 [==============================] - 4s 4ms/step - loss: 0.0023\n",
      "Epoch 46/50\n",
      "957/957 [==============================] - 4s 5ms/step - loss: 0.0024\n",
      "Epoch 47/50\n",
      "957/957 [==============================] - 4s 4ms/step - loss: 0.0022\n",
      "Epoch 48/50\n",
      "957/957 [==============================] - 4s 4ms/step - loss: 0.0032\n",
      "Epoch 49/50\n",
      "957/957 [==============================] - 4s 4ms/step - loss: 0.0022\n",
      "Epoch 50/50\n",
      "957/957 [==============================] - 4s 4ms/step - loss: 0.0022\n"
     ]
    }
   ],
   "source": [
    "if(not os.path.exists('stock_prediction.h5')):\n",
    "    model.fit(x_train, y_train, epochs=50, batch_size=32)\n",
    "    model.save('stock_prediction.h5')"
   ]
  },
  {
   "cell_type": "code",
   "execution_count": 61,
   "metadata": {},
   "outputs": [],
   "source": [
    "model = load_model('stock_prediction.h5')"
   ]
  },
  {
   "cell_type": "code",
   "execution_count": 62,
   "metadata": {},
   "outputs": [
    {
     "data": {
      "text/plain": [
       "<matplotlib.legend.Legend at 0x2326b853eb8>"
      ]
     },
     "execution_count": 62,
     "metadata": {},
     "output_type": "execute_result"
    },
    {
     "data": {
      "image/png": "[encoded data removed]",
      "text/plain": [
       "<Figure size 576x288 with 1 Axes>"
      ]
     },
     "metadata": {
      "needs_background": "light"
     },
     "output_type": "display_data"
    }
   ],
   "source": [
    "predictions = model.predict(x_test)\n",
    "predictions = scaler.inverse_transform(predictions)\n",
    "\n",
    "fig, ax = plt.subplots(figsize=(8,4))\n",
    "plt.plot(df, color='red',  label=\"True Price\")\n",
    "ax.plot(range(len(y_train)+50,len(y_train)+50+len(predictions)),predictions, color='blue', label='Predicted Testing Price')\n",
    "plt.legend()"
   ]
  },
  {
   "cell_type": "code",
   "execution_count": 63,
   "metadata": {},
   "outputs": [
    {
     "data": {
      "text/plain": [
       "<matplotlib.legend.Legend at 0x2326ceb35c0>"
      ]
     },
     "execution_count": 63,
     "metadata": {},
     "output_type": "execute_result"
    },
    {
     "data": {
      "image/png": "[encoded data removed]",
      "text/plain": [
       "<Figure size 576x288 with 1 Axes>"
      ]
     },
     "metadata": {
      "needs_background": "light"
     },
     "output_type": "display_data"
    }
   ],
   "source": [
    "y_test_scaled = scaler.inverse_transform(y_test.reshape(-1, 1))\n",
    "\n",
    "fig, ax = plt.subplots(figsize=(8,4))\n",
    "ax.plot(y_test_scaled, color='red', label='True Testing Price')\n",
    "plt.plot(predictions, color='blue', label='Predicted Testing Price')\n",
    "plt.legend()"
   ]
  },
  {
   "cell_type": "code",
   "execution_count": 64,
   "metadata": {},
   "outputs": [
    {
     "name": "stdout",
     "output_type": "stream",
     "text": [
      "[154.71327, 257.35556, 287.79675, 292.6682, 294.42947, 294.73337, 294.84177, 294.86908, 294.89185, 294.91333, 294.93503, 294.9552, 294.9732, 294.98862, 295.00168, 295.0125, 295.02142, 295.0288, 295.03476, 295.03973, 295.04385, 295.04733, 295.05023, 295.0527, 295.0548, 295.05673, 295.0584, 295.06, 295.06152, 295.06287, 295.0642, 295.06555, 295.06683, 295.0681, 295.0691, 295.06964, 295.0696, 295.06857, 295.06665, 295.06403, 295.06168, 295.06097, 295.06363, 295.07062, 295.0808, 295.0889, 295.08566, 295.05566, 294.98236, 294.86087, 294.68945, 294.6676, 294.6666, 294.6664, 294.6664, 294.66638, 294.6664, 294.66644, 294.66647, 294.66647, 294.66647, 294.6665, 294.6665, 294.66656, 294.66663, 294.6666, 294.66663, 294.66663, 294.66663, 294.66666, 294.66666, 294.66666, 294.66672, 294.6667, 294.66672, 294.66672, 294.66672, 294.66675, 294.66678, 294.66678, 294.6668, 294.6668, 294.6668, 294.6668, 294.66684, 294.66684, 294.66687, 294.66687, 294.6669, 294.66687, 294.66693, 294.66693, 294.66693, 294.66693, 294.66696, 294.66696, 294.66696, 294.66696, 294.667, 294.667]\n"
     ]
    }
   ],
   "source": [
    "x = x_test[-1]\n",
    "num_timesteps = 100\n",
    "preds = []\n",
    "for i in range(num_timesteps):\n",
    "    data = np.expand_dims(x, axis=0)\n",
    "    prediction = model.predict(data)\n",
    "    prediction = scaler.inverse_transform(prediction)\n",
    "    preds.append(prediction[0][0])\n",
    "    x = np.delete(x, 0, axis=0) # delete first row\n",
    "    x = np.vstack([x, prediction]) # add prediction\n",
    "\n",
    "print(preds)"
   ]
  },
  {
   "cell_type": "code",
   "execution_count": null,
   "metadata": {},
   "outputs": [],
   "source": []
  },
  {
   "cell_type": "code",
   "execution_count": null,
   "metadata": {},
   "outputs": [],
   "source": []
  },
  {
   "cell_type": "code",
   "execution_count": null,
   "metadata": {},
   "outputs": [],
   "source": []
  },
  {
   "cell_type": "code",
   "execution_count": null,
   "metadata": {},
   "outputs": [],
   "source": []
  },
  {
   "cell_type": "code",
   "execution_count": null,
   "metadata": {},
   "outputs": [],
   "source": []
  },
  {
   "cell_type": "code",
   "execution_count": null,
   "metadata": {},
   "outputs": [],
   "source": []
  },
  {
   "cell_type": "code",
   "execution_count": null,
   "metadata": {},
   "outputs": [],
   "source": []
  },
  {
   "cell_type": "code",
   "execution_count": null,
   "metadata": {},
   "outputs": [],
   "source": []
  },
  {
   "cell_type": "code",
   "execution_count": null,
   "metadata": {},
   "outputs": [],
   "source": []
  },
  {
   "cell_type": "code",
   "execution_count": null,
   "metadata": {},
   "outputs": [],
   "source": []
  },
  {
   "cell_type": "code",
   "execution_count": null,
   "metadata": {},
   "outputs": [],
   "source": []
  },
  {
   "cell_type": "code",
   "execution_count": null,
   "metadata": {},
   "outputs": [],
   "source": []
  },
  {
   "cell_type": "code",
   "execution_count": null,
   "metadata": {},
   "outputs": [],
   "source": []
  },
  {
   "cell_type": "code",
   "execution_count": null,
   "metadata": {},
   "outputs": [],
   "source": []
  },
  {
   "cell_type": "code",
   "execution_count": null,
   "metadata": {},
   "outputs": [],
   "source": []
  },
  {
   "cell_type": "code",
   "execution_count": null,
   "metadata": {},
   "outputs": [],
   "source": []
  }
 ],
 "metadata": {
  "kernelspec": {
   "display_name": "Python 3",
   "language": "python",
   "name": "python3"
  },
  "language_info": {
   "codemirror_mode": {
    "name": "ipython",
    "version": 3
   },
   "file_extension": ".py",
   "mimetype": "text/x-python",
   "name": "python",
   "nbconvert_exporter": "python",
   "pygments_lexer": "ipython3",
   "version": "3.7.3"
  }
 },
 "nbformat": 4,
 "nbformat_minor": 2
}
